{
 "cells": [
  {
   "cell_type": "code",
   "execution_count": 1,
   "metadata": {},
   "outputs": [],
   "source": [
    "import os\n",
    "os.chdir('..')\n",
    "import warnings\n",
    "warnings.filterwarnings('ignore')\n",
    "import pandas as pd"
   ]
  },
  {
   "cell_type": "code",
   "execution_count": 2,
   "metadata": {},
   "outputs": [],
   "source": [
    "from scripts.telegram_scra import start_scraping\n"
   ]
  },
  {
   "cell_type": "code",
   "execution_count": 3,
   "metadata": {},
   "outputs": [
    {
     "data": {
      "text/plain": [
       "'d:\\\\pro\\\\10 acadamy\\\\Amharic-NER-for-Telegram-E-commerce-Messages'"
      ]
     },
     "execution_count": 3,
     "metadata": {},
     "output_type": "execute_result"
    }
   ],
   "source": [
    "import os\n",
    "\n",
    "# Get the current working directory\n",
    "current_directory = os.getcwd()\n",
    "current_directory\n"
   ]
  },
  {
   "cell_type": "code",
   "execution_count": 4,
   "metadata": {},
   "outputs": [
    {
     "name": "stdout",
     "output_type": "stream",
     "text": [
      "Scrapping data...\n",
      "Signed in successfully as Medit Td; remember to not break the ToS or you will risk an account ban!\n",
      "Scraping historical data from @ZemenExpress (Zemen Express®)...\n",
      "Finished scraping @ZemenExpress\n",
      "Listening for real-time messages...\n"
     ]
    }
   ],
   "source": [
    "# from notebooks.telegram_scrapper import start_scraping\n",
    "\n",
    "\n",
    "from scripts.telegram_scra import start_scraping\n",
    "\n",
    "\n",
    "channel = ['@ZemenExpress']\n",
    "# channel = ['@express_new_chann']\n",
    "# Call the scraping function\n",
    "start_scraping(channel)"
   ]
  },
  {
   "cell_type": "code",
   "execution_count": 5,
   "metadata": {},
   "outputs": [],
   "source": [
    "data = pd.read_csv(\"telegram_data.csv\")\n",
    "import re"
   ]
  },
  {
   "cell_type": "code",
   "execution_count": 6,
   "metadata": {},
   "outputs": [
    {
     "data": {
      "text/html": [
       "<div>\n",
       "<style scoped>\n",
       "    .dataframe tbody tr th:only-of-type {\n",
       "        vertical-align: middle;\n",
       "    }\n",
       "\n",
       "    .dataframe tbody tr th {\n",
       "        vertical-align: top;\n",
       "    }\n",
       "\n",
       "    .dataframe thead th {\n",
       "        text-align: right;\n",
       "    }\n",
       "</style>\n",
       "<table border=\"1\" class=\"dataframe\">\n",
       "  <thead>\n",
       "    <tr style=\"text-align: right;\">\n",
       "      <th></th>\n",
       "      <th>Message Date</th>\n",
       "      <th>Sender ID</th>\n",
       "      <th>Message ID</th>\n",
       "      <th>Product Description</th>\n",
       "    </tr>\n",
       "  </thead>\n",
       "  <tbody>\n",
       "    <tr>\n",
       "      <th>0</th>\n",
       "      <td>2025-01-21 11:03:15</td>\n",
       "      <td>-1001307493052</td>\n",
       "      <td>6065</td>\n",
       "      <td>3 120 ዋጋ፦ 1100 ብር ውስን ፍሬ ነው ያለው አድራሻ ቁ 1 መገናኛ ...</td>\n",
       "    </tr>\n",
       "    <tr>\n",
       "      <th>1</th>\n",
       "      <td>2025-01-21 11:03:04</td>\n",
       "      <td>-1001307493052</td>\n",
       "      <td>6064</td>\n",
       "      <td>3 120 ዋጋ፦ 1100 ብር ውስን ፍሬ ነው ያለው አድራሻ ቁ 1 መገናኛ ...</td>\n",
       "    </tr>\n",
       "    <tr>\n",
       "      <th>2</th>\n",
       "      <td>2025-01-21 07:11:47</td>\n",
       "      <td>-1001307493052</td>\n",
       "      <td>6063</td>\n",
       "      <td>12 ዋጋ፦ 800 ብር ውስን ፍሬ ነው ያለን አድራሻ ቁ 1 መገናኛ መሰረት...</td>\n",
       "    </tr>\n",
       "    <tr>\n",
       "      <th>3</th>\n",
       "      <td>2025-01-21 07:11:33</td>\n",
       "      <td>-1001307493052</td>\n",
       "      <td>6062</td>\n",
       "      <td>12 ዋጋ፦ 800 ብር ውስን ፍሬ ነው ያለን አድራሻ ቁ 1 መገናኛ መሰረት...</td>\n",
       "    </tr>\n",
       "    <tr>\n",
       "      <th>4</th>\n",
       "      <td>2025-01-21 05:20:45</td>\n",
       "      <td>-1001307493052</td>\n",
       "      <td>6059</td>\n",
       "      <td>ዋጋ፦ 900 ብር ውስን ፍሬ ነው ያለው አድራሻ ቁ 1 መገናኛ መሰረት ደፋ...</td>\n",
       "    </tr>\n",
       "    <tr>\n",
       "      <th>5</th>\n",
       "      <td>2025-01-20 09:33:01</td>\n",
       "      <td>-1001307493052</td>\n",
       "      <td>6053</td>\n",
       "      <td>የአጠቃቀም ዘዴ 1 ለቡና ዱቄት የሚሆን በቂ ቦታ በመተው በውሃ መሙላት ይ...</td>\n",
       "    </tr>\n",
       "    <tr>\n",
       "      <th>6</th>\n",
       "      <td>2025-01-20 09:32:43</td>\n",
       "      <td>-1001307493052</td>\n",
       "      <td>6052</td>\n",
       "      <td>የአጠቃቀም ዘዴ 1 ለቡና ዱቄት የሚሆን በቂ ቦታ በመተው በውሃ መሙላት ይ...</td>\n",
       "    </tr>\n",
       "    <tr>\n",
       "      <th>7</th>\n",
       "      <td>2025-01-20 08:14:40</td>\n",
       "      <td>-1001307493052</td>\n",
       "      <td>6050</td>\n",
       "      <td>- ዋጋ፦ 550 ብር ውስን ፍሬ ነው ያለው ቁ 1 መገናኛ መሰረት ደፋር ሞ...</td>\n",
       "    </tr>\n",
       "    <tr>\n",
       "      <th>8</th>\n",
       "      <td>2025-01-20 08:14:29</td>\n",
       "      <td>-1001307493052</td>\n",
       "      <td>6049</td>\n",
       "      <td>- ዋጋ፦ 550 ብር ውስን ፍሬ ነው ያለው ቁ 1 መገናኛ መሰረት ደፋር ሞ...</td>\n",
       "    </tr>\n",
       "    <tr>\n",
       "      <th>9</th>\n",
       "      <td>2025-01-20 08:13:59</td>\n",
       "      <td>-1001307493052</td>\n",
       "      <td>6048</td>\n",
       "      <td>- ዋጋ፦ 550 ብር ውስን ፍሬ ነው ያለው ቁ 1 መገናኛ መሰረት ደፋር ሞ...</td>\n",
       "    </tr>\n",
       "  </tbody>\n",
       "</table>\n",
       "</div>"
      ],
      "text/plain": [
       "          Message Date      Sender ID  Message ID  \\\n",
       "0  2025-01-21 11:03:15 -1001307493052        6065   \n",
       "1  2025-01-21 11:03:04 -1001307493052        6064   \n",
       "2  2025-01-21 07:11:47 -1001307493052        6063   \n",
       "3  2025-01-21 07:11:33 -1001307493052        6062   \n",
       "4  2025-01-21 05:20:45 -1001307493052        6059   \n",
       "5  2025-01-20 09:33:01 -1001307493052        6053   \n",
       "6  2025-01-20 09:32:43 -1001307493052        6052   \n",
       "7  2025-01-20 08:14:40 -1001307493052        6050   \n",
       "8  2025-01-20 08:14:29 -1001307493052        6049   \n",
       "9  2025-01-20 08:13:59 -1001307493052        6048   \n",
       "\n",
       "                                 Product Description  \n",
       "0  3 120 ዋጋ፦ 1100 ብር ውስን ፍሬ ነው ያለው አድራሻ ቁ 1 መገናኛ ...  \n",
       "1  3 120 ዋጋ፦ 1100 ብር ውስን ፍሬ ነው ያለው አድራሻ ቁ 1 መገናኛ ...  \n",
       "2  12 ዋጋ፦ 800 ብር ውስን ፍሬ ነው ያለን አድራሻ ቁ 1 መገናኛ መሰረት...  \n",
       "3  12 ዋጋ፦ 800 ብር ውስን ፍሬ ነው ያለን አድራሻ ቁ 1 መገናኛ መሰረት...  \n",
       "4  ዋጋ፦ 900 ብር ውስን ፍሬ ነው ያለው አድራሻ ቁ 1 መገናኛ መሰረት ደፋ...  \n",
       "5  የአጠቃቀም ዘዴ 1 ለቡና ዱቄት የሚሆን በቂ ቦታ በመተው በውሃ መሙላት ይ...  \n",
       "6  የአጠቃቀም ዘዴ 1 ለቡና ዱቄት የሚሆን በቂ ቦታ በመተው በውሃ መሙላት ይ...  \n",
       "7  - ዋጋ፦ 550 ብር ውስን ፍሬ ነው ያለው ቁ 1 መገናኛ መሰረት ደፋር ሞ...  \n",
       "8  - ዋጋ፦ 550 ብር ውስን ፍሬ ነው ያለው ቁ 1 መገናኛ መሰረት ደፋር ሞ...  \n",
       "9  - ዋጋ፦ 550 ብር ውስን ፍሬ ነው ያለው ቁ 1 መገናኛ መሰረት ደፋር ሞ...  "
      ]
     },
     "execution_count": 6,
     "metadata": {},
     "output_type": "execute_result"
    }
   ],
   "source": [
    "data.head(10)\n"
   ]
  },
  {
   "cell_type": "code",
   "execution_count": 10,
   "metadata": {},
   "outputs": [
    {
     "ename": "ModuleNotFoundError",
     "evalue": "No module named 'amseg'",
     "output_type": "error",
     "traceback": [
      "\u001b[1;31m---------------------------------------------------------------------------\u001b[0m",
      "\u001b[1;31mModuleNotFoundError\u001b[0m                       Traceback (most recent call last)",
      "Cell \u001b[1;32mIn[10], line 1\u001b[0m\n\u001b[1;32m----> 1\u001b[0m \u001b[38;5;28;01mfrom\u001b[39;00m\u001b[38;5;250m \u001b[39m\u001b[38;5;21;01mamseg\u001b[39;00m\u001b[38;5;250m \u001b[39m\u001b[38;5;28;01mimport\u001b[39;00m AmharicSegmenter \n\u001b[0;32m      2\u001b[0m sent_punct \u001b[38;5;241m=\u001b[39m []\n\u001b[0;32m      3\u001b[0m word_punct \u001b[38;5;241m=\u001b[39m []\n",
      "\u001b[1;31mModuleNotFoundError\u001b[0m: No module named 'amseg'"
     ]
    }
   ],
   "source": [
    "from amseg import AmharicSegmenter \n",
    "sent_punct = []\n",
    "word_punct = []\n",
    "segmenter = AmharicSegmenter(sent_punct, word_punct)\n"
   ]
  },
  {
   "cell_type": "code",
   "execution_count": null,
   "metadata": {},
   "outputs": [],
   "source": []
  }
 ],
 "metadata": {
  "kernelspec": {
   "display_name": ".venv",
   "language": "python",
   "name": "python3"
  },
  "language_info": {
   "codemirror_mode": {
    "name": "ipython",
    "version": 3
   },
   "file_extension": ".py",
   "mimetype": "text/x-python",
   "name": "python",
   "nbconvert_exporter": "python",
   "pygments_lexer": "ipython3",
   "version": "3.12.2"
  }
 },
 "nbformat": 4,
 "nbformat_minor": 2
}
